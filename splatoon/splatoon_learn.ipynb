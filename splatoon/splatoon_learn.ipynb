{
 "cells": [
  {
   "cell_type": "code",
   "execution_count": 3,
   "metadata": {},
   "outputs": [],
   "source": [
    "import numpy as np\n",
    "import pandas as pd\n",
    "import collections\n",
    "\n",
    "pd.set_option('display.max_columns', 100)\n",
    "pd.set_option('display.max_rows', 500)\n",
    "\n",
    "import pprint\n",
    "from collections import OrderedDict\n",
    "from sklearn.preprocessing import LabelEncoder\n",
    "from sklearn.preprocessing import OrdinalEncoder\n",
    "from sklearn.preprocessing import LabelBinarizer\n",
    "from sklearn import preprocessing"
   ]
  },
  {
   "cell_type": "code",
   "execution_count": 4,
   "metadata": {},
   "outputs": [],
   "source": [
    "# トレーニングデータ、テストデータ、サンプルサブミットデータを読み込み\n",
    "train = pd.read_csv('train_data.csv')\n",
    "test = pd.read_csv('test_data.csv')"
   ]
  },
  {
   "cell_type": "code",
   "execution_count": 5,
   "metadata": {},
   "outputs": [],
   "source": [
    "# ステージデータ、武器データを読み込み\n",
    "stage_info = pd.read_csv('stage_info.csv')\n",
    "weapon_info = pd.read_csv('statink-weapon2.csv')"
   ]
  },
  {
   "cell_type": "code",
   "execution_count": 6,
   "metadata": {},
   "outputs": [],
   "source": [
    "# rankは順序尺度なのでサイズマッピングする\n",
    "rank_mapping = {'c-': 1, 'c': 2, 'c+': 3, 'b-': 4, 'b': 5, 'b+': 6, 'a-': 7, 'a': 8, 'a+': 9, 's-':10, 's':11, 's+':12, 'x':13}\n",
    "train['A1-rank'] = train['A1-rank'].map(rank_mapping)\n",
    "train['A2-rank'] = train['A2-rank'].map(rank_mapping)\n",
    "train['A3-rank'] = train['A3-rank'].map(rank_mapping)\n",
    "train['A4-rank'] = train['A4-rank'].map(rank_mapping)\n",
    "train['B1-rank'] = train['B1-rank'].map(rank_mapping)\n",
    "train['B2-rank'] = train['B2-rank'].map(rank_mapping)\n",
    "train['B3-rank'] = train['B3-rank'].map(rank_mapping)\n",
    "train['B4-rank'] = train['B4-rank'].map(rank_mapping)\n",
    "\n",
    "# 欠損値は0にする\n",
    "train['A1-rank'].fillna(0, inplace=True)\n",
    "train['A2-rank'].fillna(0, inplace=True)\n",
    "train['A3-rank'].fillna(0, inplace=True)\n",
    "train['A4-rank'].fillna(0, inplace=True)\n",
    "train['B1-rank'].fillna(0, inplace=True)\n",
    "train['B2-rank'].fillna(0, inplace=True)\n",
    "train['B3-rank'].fillna(0, inplace=True)\n",
    "train['B4-rank'].fillna(0, inplace=True)"
   ]
  },
  {
   "cell_type": "code",
   "execution_count": null,
   "metadata": {},
   "outputs": [],
   "source": [
    "##### チーム人数の差の変数を作る #####\n",
    "\n",
    "# A4-level, B3-level, B4-level のNanを'empty'に置換\n",
    "train['A4-level'].fillna(0, inplace=True)\n",
    "train['B3-level'].fillna(0, inplace=True)\n",
    "train['B4-level'].fillna(0, inplace=True)   \n",
    "# ランクにemptyがあるかどうか真偽値を与える\n",
    "train_bool_A4 = (train['A4-level'] == 0)\n",
    "train_bool_B3 = (train['B3-level'] == 0)\n",
    "train_bool_B4 = (train['B4-level'] == 0)\n",
    "\n",
    "team_dif = np.zeros((66125,1))\n",
    "for i in range(66124):\n",
    "    team_A = 4 - train_bool_A4[i] \n",
    "    team_B = 4 - (train_bool_B3[i] + train_bool_B4[i])\n",
    "    team_dif[i,0] = team_A - team_B\n",
    "    \n",
    "team_dif = pd.DataFrame(team_dif)\n",
    "# trainに結合\n",
    "train['team_dif'] = team_dif"
   ]
  },
  {
   "cell_type": "code",
   "execution_count": null,
   "metadata": {},
   "outputs": [],
   "source": [
    "##### sub列とspecial列を作ってtrainに結合する #####\n",
    "\n",
    "# 武器の辞書を作成\n",
    "dic = weapon_info.set_index('key')['special'].to_dict()\n",
    "\n",
    "# trainにspecial列を追加\n",
    "train['A1-special'] = 0\n",
    "train['A2-special'] = 0\n",
    "train['A3-special'] = 0\n",
    "train['A4-special'] = 0\n",
    "train['B1-special'] = 0\n",
    "train['B2-special'] = 0\n",
    "train['B3-special'] = 0\n",
    "train['B4-special'] = 0\n",
    "\n",
    "# special列に代入\n",
    "train['A1-special'] = train['A1-weapon'].replace(dic)\n",
    "train['A2-special'] = train['A2-weapon'].replace(dic)\n",
    "train['A3-special'] = train['A3-weapon'].replace(dic)\n",
    "train['A4-special'] = train['A4-weapon'].replace(dic)\n",
    "train['B1-special'] = train['B1-weapon'].replace(dic)\n",
    "train['B2-special'] = train['B2-weapon'].replace(dic)\n",
    "train['B3-special'] = train['B3-weapon'].replace(dic)\n",
    "train['B4-special'] = train['B4-weapon'].replace(dic)\n",
    "\n",
    "# trainにsub列を追加\n",
    "train['A1-sub'] = 0\n",
    "train['A2-sub'] = 0\n",
    "train['A3-sub'] = 0\n",
    "train['A4-sub'] = 0\n",
    "train['B1-sub'] = 0\n",
    "train['B2-sub'] = 0\n",
    "train['B3-sub'] = 0\n",
    "train['B4-sub'] = 0\n",
    "\n",
    "# 武器の辞書を作成\n",
    "dic = weapon_info.set_index('key')['subweapon'].to_dict()\n",
    "\n",
    "# sub列に代入\n",
    "train['A1-sub'] = train['A1-weapon'].replace(dic)\n",
    "train['A2-sub'] = train['A2-weapon'].replace(dic)\n",
    "train['A3-sub'] = train['A3-weapon'].replace(dic)\n",
    "train['A4-sub'] = train['A4-weapon'].replace(dic)\n",
    "train['B1-sub'] = train['B1-weapon'].replace(dic)\n",
    "train['B2-sub'] = train['B2-weapon'].replace(dic)\n",
    "train['B3-sub'] = train['B3-weapon'].replace(dic)\n",
    "train['B4-sub'] = train['B4-weapon'].replace(dic)"
   ]
  },
  {
   "cell_type": "code",
   "execution_count": null,
   "metadata": {},
   "outputs": [],
   "source": [
    "# カテゴリーの列を作って結合する\n",
    "dic = weapon_info.set_index('key')['category2'].to_dict()\n",
    "train['A1-category'] = train['A1-weapon'].replace(dic)\n",
    "train['A2-category'] = train['A2-weapon'].replace(dic)\n",
    "train['A3-category'] = train['A3-weapon'].replace(dic)\n",
    "train['A4-category'] = train['A4-weapon'].replace(dic)\n",
    "train['B1-category'] = train['B1-weapon'].replace(dic)\n",
    "train['B2-category'] = train['B2-weapon'].replace(dic)\n",
    "train['B3-category'] = train['B3-weapon'].replace(dic)\n",
    "train['B4-category'] = train['B4-weapon'].replace(dic)"
   ]
  },
  {
   "cell_type": "code",
   "execution_count": null,
   "metadata": {},
   "outputs": [],
   "source": [
    "##### アーマーがいるかいないかの変数を作る #####\n",
    "\n",
    "# aromr がいるかどうか真偽値を与える\n",
    "train_bool_A1special = (train['A1-special'] == 'armor')\n",
    "train_bool_A2special = (train['A2-special'] == 'armor')\n",
    "train_bool_A3special = (train['A3-special'] == 'armor')\n",
    "train_bool_A4special = (train['A4-special'] == 'armor')\n",
    "train_bool_B1special = (train['B1-special'] == 'armor')\n",
    "train_bool_B2special = (train['B2-special'] == 'armor')\n",
    "train_bool_B3special = (train['B3-special'] == 'armor')\n",
    "train_bool_B4special = (train['B4-special'] == 'armor')\n",
    "\n",
    "armor_A = np.zeros((66125,1))\n",
    "armor_B = np.zeros((66125,1))\n",
    "for i in range(66124): \n",
    "    armor_A[i] = max(train_bool_A1special[i], train_bool_A2special[i], train_bool_A3special[i], train_bool_A4special[i])\n",
    "    armor_B[i] = max(train_bool_B1special[i], train_bool_B2special[i], train_bool_B3special[i], train_bool_B4special[i])\n",
    "    \n",
    "# pandas に変換して trainに結合\n",
    "armor_A = pd.DataFrame(armor_A)\n",
    "armor_B = pd.DataFrame(armor_B)\n",
    "train['armor_A'] = armor_A\n",
    "train['armor_B'] = armor_B"
   ]
  }
 ],
 "metadata": {
  "kernelspec": {
   "display_name": "Python 3",
   "language": "python",
   "name": "python3"
  },
  "language_info": {
   "codemirror_mode": {
    "name": "ipython",
    "version": 3
   },
   "file_extension": ".py",
   "mimetype": "text/x-python",
   "name": "python",
   "nbconvert_exporter": "python",
   "pygments_lexer": "ipython3",
   "version": "3.8.3"
  }
 },
 "nbformat": 4,
 "nbformat_minor": 4
}
