{
 "cells": [
  {
   "cell_type": "code",
   "execution_count": 145,
   "metadata": {},
   "outputs": [],
   "source": [
    "import numpy as np\n",
    "import pandas as pd\n",
    "import collections\n",
    "\n",
    "pd.set_option('display.max_columns', 100)\n",
    "pd.set_option('display.max_rows', 500)\n",
    "\n",
    "import pprint\n",
    "from collections import OrderedDict\n",
    "from sklearn.preprocessing import LabelEncoder\n",
    "from sklearn.preprocessing import OrdinalEncoder\n",
    "from sklearn.preprocessing import LabelBinarizer\n",
    "from sklearn import preprocessing"
   ]
  },
  {
   "cell_type": "code",
   "execution_count": 146,
   "metadata": {},
   "outputs": [],
   "source": [
    "# トレーニングデータ、テストデータ、サンプルサブミットデータを読み込み\n",
    "train = pd.read_csv('train_data.csv')\n",
    "test = pd.read_csv('test_data.csv')"
   ]
  },
  {
   "cell_type": "code",
   "execution_count": 147,
   "metadata": {},
   "outputs": [],
   "source": [
    "# ステージデータ、武器データを読み込み\n",
    "stage_info = pd.read_csv('stage_info.csv')\n",
    "weapon_info = pd.read_csv('statink-weapon2.csv')"
   ]
  },
  {
   "cell_type": "code",
   "execution_count": 148,
   "metadata": {},
   "outputs": [],
   "source": [
    "# 仮のデータ置き場を作る\n",
    "data = np.zeros((66125,1))\n",
    "data = pd.DataFrame(data)"
   ]
  },
  {
   "cell_type": "code",
   "execution_count": 149,
   "metadata": {},
   "outputs": [],
   "source": [
    "# A4-level, B3-level, B4-level のNanを0に置換\n",
    "train['A4-level'].fillna(0, inplace=True)\n",
    "train['B3-level'].fillna(0, inplace=True)\n",
    "train['B4-level'].fillna(0, inplace=True)   "
   ]
  },
  {
   "cell_type": "code",
   "execution_count": 150,
   "metadata": {},
   "outputs": [],
   "source": [
    "# rankは順序尺度なのでサイズマッピングする\n",
    "rank_mapping = {'c-': 1, 'c': 2, 'c+': 3, 'b-': 4, 'b': 5, 'b+': 6, 'a-': 7, 'a': 8, 'a+': 9, 's-':10, 's':11, 's+':12, 'x':13}\n",
    "data['A1-rank'] = train['A1-rank'].map(rank_mapping)\n",
    "data['A2-rank'] = train['A2-rank'].map(rank_mapping)\n",
    "data['A3-rank'] = train['A3-rank'].map(rank_mapping)\n",
    "data['A4-rank'] = train['A4-rank'].map(rank_mapping)\n",
    "data['B1-rank'] = train['B1-rank'].map(rank_mapping)\n",
    "data['B2-rank'] = train['B2-rank'].map(rank_mapping)\n",
    "data['B3-rank'] = train['B3-rank'].map(rank_mapping)\n",
    "data['B4-rank'] = train['B4-rank'].map(rank_mapping)\n",
    "\n",
    "# 欠損値は0にする\n",
    "data['A1-rank'].fillna(0, inplace=True)\n",
    "data['A2-rank'].fillna(0, inplace=True)\n",
    "data['A3-rank'].fillna(0, inplace=True)\n",
    "data['A4-rank'].fillna(0, inplace=True)\n",
    "data['B1-rank'].fillna(0, inplace=True)\n",
    "data['B2-rank'].fillna(0, inplace=True)\n",
    "data['B3-rank'].fillna(0, inplace=True)\n",
    "data['B4-rank'].fillna(0, inplace=True)"
   ]
  },
  {
   "cell_type": "code",
   "execution_count": 151,
   "metadata": {},
   "outputs": [],
   "source": [
    "##### チーム人数の差の変数を作る #####\n",
    "\n",
    "# A4-level, B3-level, B4-level のNanを0に置換\n",
    "train['A4-level'].fillna(0, inplace=True)\n",
    "train['B3-level'].fillna(0, inplace=True)\n",
    "train['B4-level'].fillna(0, inplace=True)   \n",
    "# ランクにemptyがあるかどうか真偽値を与える\n",
    "train_bool_A4 = (train['A4-level'] == 0)\n",
    "train_bool_B3 = (train['B3-level'] == 0)\n",
    "train_bool_B4 = (train['B4-level'] == 0)\n",
    "\n",
    "team_dif = np.zeros((66125,1))\n",
    "for i in range(66124):\n",
    "    team_A = 4 - train_bool_A4[i] \n",
    "    team_B = 4 - (train_bool_B3[i] + train_bool_B4[i])\n",
    "    team_dif[i,0] = team_A - team_B\n",
    "    \n",
    "team_dif = pd.DataFrame(team_dif)\n",
    "# trainに結合\n",
    "train['team_dif'] = team_dif"
   ]
  },
  {
   "cell_type": "code",
   "execution_count": 152,
   "metadata": {},
   "outputs": [],
   "source": [
    "##### sub列とspecial列を作ってtrainに結合する #####\n",
    "\n",
    "# 武器の辞書を作成\n",
    "dic = weapon_info.set_index('key')['special'].to_dict()\n",
    "\n",
    "# trainにspecial列を追加\n",
    "data['A1-special'] = 0\n",
    "data['A2-special'] = 0\n",
    "data['A3-special'] = 0\n",
    "data['A4-special'] = 0\n",
    "data['B1-special'] = 0\n",
    "data['B2-special'] = 0\n",
    "data['B3-special'] = 0\n",
    "data['B4-special'] = 0\n",
    "\n",
    "# special列に代入\n",
    "data['A1-special'] = train['A1-weapon'].replace(dic)\n",
    "data['A2-special'] = train['A2-weapon'].replace(dic)\n",
    "data['A3-special'] = train['A3-weapon'].replace(dic)\n",
    "data['A4-special'] = train['A4-weapon'].replace(dic)\n",
    "data['B1-special'] = train['B1-weapon'].replace(dic)\n",
    "data['B2-special'] = train['B2-weapon'].replace(dic)\n",
    "data['B3-special'] = train['B3-weapon'].replace(dic)\n",
    "data['B4-special'] = train['B4-weapon'].replace(dic)\n",
    "\n",
    "# trainにsub列を追加\n",
    "data['A1-sub'] = 0\n",
    "data['A2-sub'] = 0\n",
    "data['A3-sub'] = 0\n",
    "data['A4-sub'] = 0\n",
    "data['B1-sub'] = 0\n",
    "data['B2-sub'] = 0\n",
    "data['B3-sub'] = 0\n",
    "data['B4-sub'] = 0\n",
    "\n",
    "# 武器の辞書を作成\n",
    "dic = weapon_info.set_index('key')['subweapon'].to_dict()\n",
    "\n",
    "# sub列に代入\n",
    "data['A1-sub'] = train['A1-weapon'].replace(dic)\n",
    "data['A2-sub'] = train['A2-weapon'].replace(dic)\n",
    "data['A3-sub'] = train['A3-weapon'].replace(dic)\n",
    "data['A4-sub'] = train['A4-weapon'].replace(dic)\n",
    "data['B1-sub'] = train['B1-weapon'].replace(dic)\n",
    "data['B2-sub'] = train['B2-weapon'].replace(dic)\n",
    "data['B3-sub'] = train['B3-weapon'].replace(dic)\n",
    "data['B4-sub'] = train['B4-weapon'].replace(dic)"
   ]
  },
  {
   "cell_type": "code",
   "execution_count": 153,
   "metadata": {},
   "outputs": [],
   "source": [
    "# カテゴリーの列を作って結合する\n",
    "dic = weapon_info.set_index('key')['category2'].to_dict()\n",
    "data['A1-category'] = train['A1-weapon'].replace(dic)\n",
    "data['A2-category'] = train['A2-weapon'].replace(dic)\n",
    "data['A3-category'] = train['A3-weapon'].replace(dic)\n",
    "data['A4-category'] = train['A4-weapon'].replace(dic)\n",
    "data['B1-category'] = train['B1-weapon'].replace(dic)\n",
    "data['B2-category'] = train['B2-weapon'].replace(dic)\n",
    "data['B3-category'] = train['B3-weapon'].replace(dic)\n",
    "data['B4-category'] = train['B4-weapon'].replace(dic)"
   ]
  },
  {
   "cell_type": "code",
   "execution_count": 154,
   "metadata": {},
   "outputs": [],
   "source": [
    "##### アーマーがいるかいないかの変数を作る #####\n",
    "\n",
    "# aromr がいるかどうか真偽値を与える\n",
    "data_bool_A1special = (data['A1-special'] == 'armor')\n",
    "data_bool_A2special = (data['A2-special'] == 'armor')\n",
    "data_bool_A3special = (data['A3-special'] == 'armor')\n",
    "data_bool_A4special = (data['A4-special'] == 'armor')\n",
    "data_bool_B1special = (data['B1-special'] == 'armor')\n",
    "data_bool_B2special = (data['B2-special'] == 'armor')\n",
    "data_bool_B3special = (data['B3-special'] == 'armor')\n",
    "data_bool_B4special = (data['B4-special'] == 'armor')\n",
    "\n",
    "armor_A = np.zeros((66125,1))\n",
    "armor_B = np.zeros((66125,1))\n",
    "for i in range(66124): \n",
    "    armor_A[i] = max(train_bool_A1special[i], train_bool_A2special[i], train_bool_A3special[i], train_bool_A4special[i])\n",
    "    armor_B[i] = max(train_bool_B1special[i], train_bool_B2special[i], train_bool_B3special[i], train_bool_B4special[i])\n",
    "    \n",
    "# pandas に変換して trainに結合\n",
    "armor_A = pd.DataFrame(armor_A)\n",
    "armor_B = pd.DataFrame(armor_B)\n",
    "train['armor_A'] = armor_A\n",
    "train['armor_B'] = armor_B"
   ]
  },
  {
   "cell_type": "code",
   "execution_count": 155,
   "metadata": {},
   "outputs": [],
   "source": [
    "##### チャージャーの人数の変数を作る #####\n",
    "\n",
    "# charger がいるかどうか真偽値を与える\n",
    "data_bool_A1_charger = (data['A1-category'] == 'charger')\n",
    "data_bool_A2_charger = (data['A2-category'] == 'charger')\n",
    "data_bool_A3_charger = (data['A3-category'] == 'charger')\n",
    "data_bool_A4_charger = (data['A4-category'] == 'charger')\n",
    "data_bool_B1_charger = (data['B1-category'] == 'charger')\n",
    "data_bool_B2_charger = (data['B2-category'] == 'charger')\n",
    "data_bool_B3_charger = (data['B3-category'] == 'charger')\n",
    "data_bool_B4_charger = (data['B4-category'] == 'charger')\n",
    "\n",
    "charger_A = np.zeros((66125,1))\n",
    "charger_B = np.zeros((66125,1))\n",
    "for i in range(66124): \n",
    "    charger_A[i] = data_bool_A1_charger[i] + data_bool_A2_charger[i] + data_bool_A3_charger[i] + data_bool_A4_charger[i]\n",
    "    charger_B[i] = data_bool_B1_charger[i] + data_bool_B2_charger[i] + data_bool_B3_charger[i] + data_bool_B4_charger[i]\n",
    "    \n",
    "# pandas に変換して trainに結合\n",
    "charger_A = pd.DataFrame(charger_A)\n",
    "charger_B = pd.DataFrame(charger_B)\n",
    "train['charger_A'] = charger_A\n",
    "train['charger_B'] = charger_B"
   ]
  },
  {
   "cell_type": "code",
   "execution_count": 156,
   "metadata": {},
   "outputs": [],
   "source": [
    "##### ガチマはrank ナワバリはlevel だけ使う ##### \n",
    "A1_level_rank = np.zeros((66125,1))\n",
    "A2_level_rank = np.zeros((66125,1))\n",
    "A3_level_rank = np.zeros((66125,1))\n",
    "A4_level_rank = np.zeros((66125,1))\n",
    "B1_level_rank = np.zeros((66125,1))\n",
    "B2_level_rank = np.zeros((66125,1))\n",
    "B3_level_rank = np.zeros((66125,1))\n",
    "B4_level_rank = np.zeros((66125,1))\n",
    "\n",
    "for  i in range(66124): \n",
    "    if train['mode'][i] == 'nawabari':\n",
    "        A1_level_rank[i] = train['A1-level'][i]\n",
    "        A2_level_rank[i] = train['A2-level'][i]\n",
    "        A3_level_rank[i] = train['A3-level'][i]\n",
    "        A4_level_rank[i] = train['A4-level'][i]\n",
    "        B1_level_rank[i] = train['B1-level'][i]\n",
    "        B2_level_rank[i] = train['B2-level'][i]\n",
    "        B3_level_rank[i] = train['B3-level'][i]\n",
    "        B4_level_rank[i] = train['B4-level'][i]\n",
    "    else:\n",
    "        A1_level_rank[i] = data['A1-rank'][i]\n",
    "        A2_level_rank[i] = data['A2-rank'][i]\n",
    "        A3_level_rank[i] = data['A3-rank'][i]\n",
    "        A4_level_rank[i] = data['A4-rank'][i]\n",
    "        B1_level_rank[i] = data['B1-rank'][i]\n",
    "        B2_level_rank[i] = data['B2-rank'][i]\n",
    "        B3_level_rank[i] = data['B3-rank'][i]\n",
    "        B4_level_rank[i] = data['B4-rank'][i]"
   ]
  },
  {
   "cell_type": "code",
   "execution_count": 157,
   "metadata": {},
   "outputs": [],
   "source": [
    "##### ランク（ウデマエ）の差の変数を作る #####\n",
    "rank_dif = (A1_level_rank + A2_level_rank + A3_level_rank + A4_level_rank) - (B1_level_rank + B2_level_rank + B3_level_rank + B4_level_rank) \n",
    "# pandas に変換して trainに結合\n",
    "rank_dif = pd.DataFrame(rank_dif)\n",
    "train['rank_dif'] = rank_dif"
   ]
  },
  {
   "cell_type": "code",
   "execution_count": 158,
   "metadata": {},
   "outputs": [],
   "source": [
    "# Label Encording\n",
    "le = preprocessing.LabelEncoder()\n",
    "for column in ['game-ver','mode','stage']:\n",
    "#     print(titanic[column].shape)\n",
    "    le = preprocessing.LabelEncoder()\n",
    "    le.fit(train[column])\n",
    "    train[column] = le.transform(train[column])"
   ]
  },
  {
   "cell_type": "code",
   "execution_count": 159,
   "metadata": {
    "scrolled": true
   },
   "outputs": [],
   "source": [
    "# 不要な列を削除\n",
    "train.drop(['id','period','lobby','lobby-mode','A1-level','A2-level','A3-level','A4-level','B1-level','B2-level','B3-level','B4-level','A1-rank','A2-rank','A3-rank','A4-rank','B1-rank','B2-rank','B3-rank','B4-rank','A1-weapon','A2-weapon','A3-weapon','A4-weapon','B1-weapon','B2-weapon','B3-weapon','B4-weapon'], axis='columns', inplace=True)"
   ]
  },
  {
   "cell_type": "code",
   "execution_count": 161,
   "metadata": {},
   "outputs": [],
   "source": [
    "X_train = train.drop(['y'], axis=1) # X_trainはtrainのSurvived列以外\n",
    "y_train = train['y'] # y_trainはtrainのSurvived列"
   ]
  },
  {
   "cell_type": "code",
   "execution_count": 171,
   "metadata": {},
   "outputs": [
    {
     "name": "stdout",
     "output_type": "stream",
     "text": [
      "Training until validation scores don't improve for 10 rounds\n",
      "[10]\ttraining's binary_logloss: 0.683794\tvalid_1's binary_logloss: 0.686081\n",
      "[20]\ttraining's binary_logloss: 0.681085\tvalid_1's binary_logloss: 0.685303\n",
      "[30]\ttraining's binary_logloss: 0.67903\tvalid_1's binary_logloss: 0.685367\n",
      "Early stopping, best iteration is:\n",
      "[25]\ttraining's binary_logloss: 0.67999\tvalid_1's binary_logloss: 0.68525\n"
     ]
    }
   ],
   "source": [
    "import lightgbm as lgb\n",
    "from sklearn.model_selection import train_test_split\n",
    "from sklearn.metrics import accuracy_score\n",
    "# X_trainとy_trainをtrainとvalidに分割\n",
    "train_x, valid_x, train_y, valid_y = train_test_split(X_train, y_train,\n",
    "test_size=0.33, random_state=0)\n",
    "# lgb.Datasetでtrainとvalidを作っておく\n",
    "lgb_train = lgb.Dataset(train_x, train_y)\n",
    "lgb_eval = lgb.Dataset(valid_x, valid_y)\n",
    "# パラメータを定義\n",
    "lgbm_params = {'objective': 'binary'}\n",
    "# lgb.trainで学習\n",
    "evals_result = {}\n",
    "gbm = lgb.train(params=lgbm_params,\n",
    "    train_set=lgb_train,\n",
    "    valid_sets=[lgb_train, lgb_eval],\n",
    "    early_stopping_rounds=20,\n",
    "    evals_result=evals_result,\n",
    "    verbose_eval=10);"
   ]
  },
  {
   "cell_type": "code",
   "execution_count": 172,
   "metadata": {},
   "outputs": [
    {
     "name": "stdout",
     "output_type": "stream",
     "text": [
      "score 54.39\n"
     ]
    }
   ],
   "source": [
    "oof = (gbm.predict(valid_x) > 0.5).astype(int)\n",
    "print('score', round(accuracy_score(valid_y, oof)*100, 2))"
   ]
  },
  {
   "cell_type": "code",
   "execution_count": 174,
   "metadata": {},
   "outputs": [
    {
     "data": {
      "text/plain": [
       "<matplotlib.legend.Legend at 0x238ee642ac0>"
      ]
     },
     "execution_count": 174,
     "metadata": {},
     "output_type": "execute_result"
    },
    {
     "data": {
      "image/png": "[encoded data removed]",
      "text/plain": [
       "<Figure size 432x288 with 1 Axes>"
      ]
     },
     "metadata": {
      "needs_background": "light"
     },
     "output_type": "display_data"
    }
   ],
   "source": [
    "import matplotlib.pyplot as plt\n",
    "\n",
    "plt.plot(evals_result['training']['binary_logloss'], label='train_loss')\n",
    "plt.plot(evals_result['valid_1']['binary_logloss'], label='valid_loss')\n",
    "plt.legend()"
   ]
  },
  {
   "cell_type": "code",
   "execution_count": 175,
   "metadata": {},
   "outputs": [
    {
     "name": "stdout",
     "output_type": "stream",
     "text": [
      "           game-ver      mode     stage         y  team_dif   armor_A  \\\n",
      "game-ver        NaN       NaN       NaN       NaN       NaN       NaN   \n",
      "mode            NaN  1.000000  0.012422  0.007298 -0.002575 -0.053744   \n",
      "stage           NaN  0.012422  1.000000 -0.000097  0.001322  0.001341   \n",
      "y               NaN  0.007298 -0.000097  1.000000  0.031074  0.012232   \n",
      "team_dif        NaN -0.002575  0.001322  0.031074  1.000000  0.003865   \n",
      "armor_A         NaN -0.053744  0.001341  0.012232  0.003865  1.000000   \n",
      "armor_B         NaN -0.057933  0.004865 -0.014956 -0.006992  0.071076   \n",
      "charger_A       NaN  0.050962 -0.002428 -0.043258  0.002796 -0.064140   \n",
      "charger_B       NaN  0.047073  0.005949  0.048625  0.002347 -0.014306   \n",
      "rank_dif        NaN  0.068676 -0.003201  0.076663  0.005682 -0.017578   \n",
      "\n",
      "            armor_B  charger_A  charger_B  rank_dif  \n",
      "game-ver        NaN        NaN        NaN       NaN  \n",
      "mode      -0.057933   0.050962   0.047073  0.068676  \n",
      "stage      0.004865  -0.002428   0.005949 -0.003201  \n",
      "y         -0.014956  -0.043258   0.048625  0.076663  \n",
      "team_dif  -0.006992   0.002796   0.002347  0.005682  \n",
      "armor_A    0.071076  -0.064140  -0.014306 -0.017578  \n",
      "armor_B    1.000000  -0.024380  -0.069164  0.001056  \n",
      "charger_A -0.024380   1.000000   0.161408  0.031407  \n",
      "charger_B -0.069164   0.161408   1.000000  0.005392  \n",
      "rank_dif   0.001056   0.031407   0.005392  1.000000  \n"
     ]
    }
   ],
   "source": [
    "res = train.corr()\n",
    "print(res)"
   ]
  },
  {
   "cell_type": "code",
   "execution_count": 164,
   "metadata": {},
   "outputs": [
    {
     "data": {
      "text/html": [
       "<div>\n",
       "<style scoped>\n",
       "    .dataframe tbody tr th:only-of-type {\n",
       "        vertical-align: middle;\n",
       "    }\n",
       "\n",
       "    .dataframe tbody tr th {\n",
       "        vertical-align: top;\n",
       "    }\n",
       "\n",
       "    .dataframe thead th {\n",
       "        text-align: right;\n",
       "    }\n",
       "</style>\n",
       "<table border=\"1\" class=\"dataframe\">\n",
       "  <thead>\n",
       "    <tr style=\"text-align: right;\">\n",
       "      <th></th>\n",
       "      <th>game-ver</th>\n",
       "      <th>mode</th>\n",
       "      <th>stage</th>\n",
       "      <th>y</th>\n",
       "      <th>team_dif</th>\n",
       "      <th>armor_A</th>\n",
       "      <th>armor_B</th>\n",
       "      <th>charger_A</th>\n",
       "      <th>charger_B</th>\n",
       "      <th>rank_dif</th>\n",
       "    </tr>\n",
       "  </thead>\n",
       "  <tbody>\n",
       "    <tr>\n",
       "      <th>0</th>\n",
       "      <td>0</td>\n",
       "      <td>3</td>\n",
       "      <td>20</td>\n",
       "      <td>1</td>\n",
       "      <td>0.0</td>\n",
       "      <td>0.0</td>\n",
       "      <td>0.0</td>\n",
       "      <td>1.0</td>\n",
       "      <td>1.0</td>\n",
       "      <td>127.0</td>\n",
       "    </tr>\n",
       "    <tr>\n",
       "      <th>1</th>\n",
       "      <td>0</td>\n",
       "      <td>3</td>\n",
       "      <td>3</td>\n",
       "      <td>0</td>\n",
       "      <td>0.0</td>\n",
       "      <td>1.0</td>\n",
       "      <td>0.0</td>\n",
       "      <td>0.0</td>\n",
       "      <td>1.0</td>\n",
       "      <td>76.0</td>\n",
       "    </tr>\n",
       "    <tr>\n",
       "      <th>2</th>\n",
       "      <td>0</td>\n",
       "      <td>2</td>\n",
       "      <td>1</td>\n",
       "      <td>0</td>\n",
       "      <td>0.0</td>\n",
       "      <td>0.0</td>\n",
       "      <td>1.0</td>\n",
       "      <td>0.0</td>\n",
       "      <td>0.0</td>\n",
       "      <td>0.0</td>\n",
       "    </tr>\n",
       "    <tr>\n",
       "      <th>3</th>\n",
       "      <td>0</td>\n",
       "      <td>3</td>\n",
       "      <td>8</td>\n",
       "      <td>0</td>\n",
       "      <td>0.0</td>\n",
       "      <td>1.0</td>\n",
       "      <td>0.0</td>\n",
       "      <td>1.0</td>\n",
       "      <td>1.0</td>\n",
       "      <td>-350.0</td>\n",
       "    </tr>\n",
       "    <tr>\n",
       "      <th>4</th>\n",
       "      <td>0</td>\n",
       "      <td>2</td>\n",
       "      <td>6</td>\n",
       "      <td>1</td>\n",
       "      <td>0.0</td>\n",
       "      <td>1.0</td>\n",
       "      <td>1.0</td>\n",
       "      <td>0.0</td>\n",
       "      <td>0.0</td>\n",
       "      <td>0.0</td>\n",
       "    </tr>\n",
       "  </tbody>\n",
       "</table>\n",
       "</div>"
      ],
      "text/plain": [
       "   game-ver  mode  stage  y  team_dif  armor_A  armor_B  charger_A  charger_B  \\\n",
       "0         0     3     20  1       0.0      0.0      0.0        1.0        1.0   \n",
       "1         0     3      3  0       0.0      1.0      0.0        0.0        1.0   \n",
       "2         0     2      1  0       0.0      0.0      1.0        0.0        0.0   \n",
       "3         0     3      8  0       0.0      1.0      0.0        1.0        1.0   \n",
       "4         0     2      6  1       0.0      1.0      1.0        0.0        0.0   \n",
       "\n",
       "   rank_dif  \n",
       "0     127.0  \n",
       "1      76.0  \n",
       "2       0.0  \n",
       "3    -350.0  \n",
       "4       0.0  "
      ]
     },
     "execution_count": 164,
     "metadata": {},
     "output_type": "execute_result"
    }
   ],
   "source": [
    "train.head()"
   ]
  },
  {
   "cell_type": "code",
   "execution_count": null,
   "metadata": {},
   "outputs": [],
   "source": []
  }
 ],
 "metadata": {
  "kernelspec": {
   "display_name": "Python 3",
   "language": "python",
   "name": "python3"
  },
  "language_info": {
   "codemirror_mode": {
    "name": "ipython",
    "version": 3
   },
   "file_extension": ".py",
   "mimetype": "text/x-python",
   "name": "python",
   "nbconvert_exporter": "python",
   "pygments_lexer": "ipython3",
   "version": "3.8.3"
  }
 },
 "nbformat": 4,
 "nbformat_minor": 4
}
